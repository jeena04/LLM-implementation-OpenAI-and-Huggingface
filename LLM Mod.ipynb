{
 "cells": [
  {
   "cell_type": "code",
   "execution_count": 1,
   "id": "8e1d890c",
   "metadata": {},
   "outputs": [
    {
     "name": "stdout",
     "output_type": "stream",
     "text": [
      "^C\n"
     ]
    }
   ],
   "source": [
    "!pip install langchain"
   ]
  },
  {
   "cell_type": "code",
   "execution_count": null,
   "id": "c9f0ffb2",
   "metadata": {},
   "outputs": [],
   "source": [
    "!pip install openai==1.14.2"
   ]
  },
  {
   "cell_type": "code",
   "execution_count": null,
   "id": "42e611d2",
   "metadata": {},
   "outputs": [],
   "source": [
    "import os\n",
    "os.environ[\"OPENAI_API_KEY\"] = \"\""
   ]
  },
  {
   "cell_type": "code",
   "execution_count": null,
   "id": "80f82a85",
   "metadata": {},
   "outputs": [],
   "source": [
    "!pip install langchain-openai==0.1.0\n",
    "\n",
    "from langchain_openai import OpenAI"
   ]
  },
  {
   "cell_type": "code",
   "execution_count": null,
   "id": "7a251dbe",
   "metadata": {},
   "outputs": [],
   "source": [
    "llm = OpenAI(model_name=\"gpt-3.5-turbo-instruct\")"
   ]
  },
  {
   "cell_type": "code",
   "execution_count": null,
   "id": "08cf324e",
   "metadata": {},
   "outputs": [],
   "source": [
    "our_query = \"What is the currency of India?\"\n",
    "completion = llm.invoke(our_query)"
   ]
  },
  {
   "cell_type": "code",
   "execution_count": null,
   "id": "03ac1485",
   "metadata": {},
   "outputs": [],
   "source": [
    "print(completion)"
   ]
  },
  {
   "cell_type": "markdown",
   "id": "60c0ea3f",
   "metadata": {},
   "source": [
    "#Let's use open-source LLM hosted on Hugging Face"
   ]
  },
  {
   "cell_type": "code",
   "execution_count": null,
   "id": "09cea074",
   "metadata": {},
   "outputs": [],
   "source": [
    "#library to communicate with huggingface\n",
    "!pip install huggingface-hub==0.21.4"
   ]
  },
  {
   "cell_type": "code",
   "execution_count": null,
   "id": "390e4c5f",
   "metadata": {},
   "outputs": [],
   "source": [
    "import os\n",
    "os.environ[\"HUGGINGFACEHUB_API_TOKEN\"] =\"\""
   ]
  },
  {
   "cell_type": "code",
   "execution_count": null,
   "id": "486d2bb4",
   "metadata": {},
   "outputs": [],
   "source": [
    "#from langchain.llms import HuggingFaceHub\n",
    "#from the library langchain and module llm of it we are importing the class huggingfacenedpoint\n",
    "\n",
    "from langchain.llms import HuggingFaceEndpoint"
   ]
  },
  {
   "cell_type": "code",
   "execution_count": null,
   "id": "1b4a63b9",
   "metadata": {},
   "outputs": [],
   "source": [
    "#llm = HuggingFaceHub(repo_id = \"google/flan-t5-large\")\n",
    "#creating instance of the class and passing the repository id to it \n",
    "llm = HuggingFaceEndpoint(\n",
    "    repo_id=\"mistralai/Mistral-7B-Instruct-v0.2\")"
   ]
  }
 ],
 "metadata": {
  "kernelspec": {
   "display_name": "Python 3",
   "language": "python",
   "name": "python3"
  },
  "language_info": {
   "codemirror_mode": {
    "name": "ipython",
    "version": 3
   },
   "file_extension": ".py",
   "mimetype": "text/x-python",
   "name": "python",
   "nbconvert_exporter": "python",
   "pygments_lexer": "ipython3",
   "version": "3.8.8"
  }
 },
 "nbformat": 4,
 "nbformat_minor": 5
}
